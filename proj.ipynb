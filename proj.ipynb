import numpy as np
import pandas as pd
from matplotlib import pyplot as plt

fifa_data = pd.read_csv('C:/Users/a.namazov/.spyder-py3/players_21.csv')
